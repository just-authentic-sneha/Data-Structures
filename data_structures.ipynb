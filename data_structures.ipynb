{
  "nbformat": 4,
  "nbformat_minor": 0,
  "metadata": {
    "colab": {
      "provenance": []
    },
    "kernelspec": {
      "name": "python3",
      "display_name": "Python 3"
    },
    "language_info": {
      "name": "python"
    }
  },
  "cells": [
    {
      "cell_type": "markdown",
      "source": [
        "# Data Structures"
      ],
      "metadata": {
        "id": "xamZmAGPwXY_"
      }
    },
    {
      "cell_type": "markdown",
      "source": [
        "1. What are data structures, and why are they important?\n",
        "   - Data structures are ways to organize and store data\n",
        "     efficiently in memory that can be accessed and manipulated efficiently such as to perform operations like retrieval, insertion, deletion, and modification effectively.\n",
        "   - They are important because they help in optimizing\n",
        "     algorithms and improving program efficiency.\n",
        "\n",
        "2. Difference between mutable and immutable data types\n",
        "   with examples\n",
        "   -  Mutable Data Types: Can be changed after creation.\n",
        "      Example: Lists, dictionaries, sets.\n",
        "   -  Immutable Data Types: Cannot be changed after\n",
        "      creation.\n",
        "      Example: Strings, tuples.\n",
        "\n",
        "3. Main differences between lists and tuples in Python\n",
        "   - The main differences between lists and tuples in     \n",
        "     Python are:\n",
        "     -> Mutability – Lists are mutable, meaning their elements can be changed, added, or removed after creation, while tuples are immutable and cannot be modified once created.\n",
        "     ->Performance – Tuples are faster than lists because they have a smaller memory footprint and require less processing power.\n",
        "     ->Syntax – Lists are defined using square brackets [], whereas tuples use parentheses ().\n",
        "     ->Usage – Lists are used when data needs to be modified frequently, while tuples are preferred for fixed data that should not change.\n",
        "\n",
        "4. How do dictionaries store data?\n",
        "   - Dictionaries store data in key-value pairs using  \n",
        "     hash tables. Each key is hashed to determine where the value will be stored.\n",
        "\n",
        "5. Why might you use a set instead of a list in Python?\n",
        "   - Sets do not allow duplicates.\n",
        "   - Faster lookups compared to lists.\n",
        "   - Useful for mathematical operations like union and\n",
        "     intersection.\n",
        "\n",
        "6. What is a string in Python, and how is it different from a list?\n",
        "   - A string is a sequence of characters enclosed in\n",
        "     quotes (\" \" or ' ').\n",
        "     Differences from a list:\n",
        "     Strings are immutable, while lists are mutable.\n",
        "     Strings contain only characters, but lists can hold mixed data types.\n",
        "\n",
        "7. How do tuples ensure data integrity in Python?\n",
        "   - Tuples are immutable, meaning their values cannot be\n",
        "     changed after creation. This ensures data remains unchanged and secure.\n",
        "\n",
        "8. What is a hash table, and how does it relate to dictionaries in Python?\n",
        "   - A hash table is a data structure that maps keys to\n",
        "     values using a hash function.\n",
        "   - Python dictionaries use hash tables to store and\n",
        "     retrieve key-value pairs in constant time O(1).\n",
        "9. Can lists contain different data types in Python?\n",
        "   - Yes, a list can contain mixed data types:\n",
        "     lst = [1, \"hello\", 3.14, True]\n",
        "\n",
        "10. Why are strings immutable in Python?\n",
        "    - Strings are immutable for:\n",
        "      Security (avoiding unintended changes).\n",
        "      Performance optimization (string caching and memory efficiency).\n",
        "\n",
        "11. What advantages do dictionaries offer over lists for\n",
        "    certain tasks?\n",
        "    - Fast lookups (O(1)) compared to lists (O(n) for searches).\n",
        "    - Key-value storage allows quick access to data.\n",
        "\n",
        "12. How do sets handle duplicate values in Python?\n",
        "    - Sets automatically remove duplicate values when\n",
        "      created.\n",
        "      s = {1, 2, 2, 3}  # Output: {1, 2, 3}\n",
        "\n",
        "13. Scenario where using a tuple is preferable over a list\n",
        "    - When you want to store constant data, e.g., GPS\n",
        "      coordinates:\n",
        "      coordinates = (28.6139, 77.2090)  # Delhi's latitude and longitude\n",
        "\n",
        "14. How does the in keyword work differently for lists  \n",
        "     and dictionaries?\n",
        "    - In lists, it checks for the existence of a value.\n",
        "    - In dictionaries, it checks for the existence of a key.\n",
        "      Example:    \n",
        "      lst = [1, 2, 3]\n",
        "      print(2 in lst)  # True\n",
        "\n",
        "      dct = {'a': 10, 'b': 20}\n",
        "      print('a' in dct)  # True (checks for key, not value)\n",
        "\n",
        "15. Can you modify the elements of a tuple? Why or why\n",
        "     not?\n",
        "    - No, tuples are immutable. Once created, their\n",
        "      elements cannot be changed.\n",
        "\n",
        "16. What is a nested dictionary, and give an example of   its use case\n",
        "  - A nested dictionary is a dictionary inside another\n",
        "     dictionary.\n",
        "   Example:\n",
        "   students = {\n",
        "    \"Alice\": {\"age\": 25, \"city\": \"New York\"},\n",
        "    \"Bob\": {\"age\": 22, \"city\": \"London\"}\n",
        "     }\n",
        "   Used when storing structured data.\n",
        "\n",
        "17. Time complexity of accessing elements in a dictionary\n",
        "    - O(1) (Constant time) using a hash table.\n",
        "\n",
        "18. In what situations are lists preferred over dictionaries?\n",
        "    - When order matters.\n",
        "    - When data has no unique identifiers (e.g., a list  \n",
        "      of names).\n",
        "    - When performing sorting and indexing operations.\n",
        "    \n",
        "19. Why are dictionaries considered unordered, and how does that affect retrieval?\n",
        "    - Dictionaries were unordered before Python 3.7. Now,\n",
        "      they maintain insertion order but are still optimized for fast key lookups.\n",
        "\n",
        "20. Difference between a list and a dictionary in terms of data retrieval\n",
        "    - Lists use index-based retrieval (O(1)).\n",
        "    - Dictionaries use key-based retrieval (O(1)), making searches more efficient.\n"
      ],
      "metadata": {
        "id": "cV0xbBHfwx0D"
      }
    },
    {
      "cell_type": "code",
      "execution_count": 1,
      "metadata": {
        "id": "DVZWqU5vwKcz",
        "colab": {
          "base_uri": "https://localhost:8080/"
        },
        "outputId": "9f62e388-094d-4eb1-e35b-dfaa16e3c42c"
      },
      "outputs": [
        {
          "output_type": "stream",
          "name": "stdout",
          "text": [
            "My name is: SNEHA CHAND\n"
          ]
        }
      ],
      "source": [
        "#1. Write a code to create a string with your name and print it\n",
        "my_name = \"SNEHA CHAND\"\n",
        "print(f\"My name is: {my_name}\")"
      ]
    },
    {
      "cell_type": "code",
      "source": [
        "#2. Write a code to find the length of the string \"Hello World\"\n",
        "length = len(\"Hello World\")\n",
        "print(f\"The length of the string is: {length}\")"
      ],
      "metadata": {
        "colab": {
          "base_uri": "https://localhost:8080/"
        },
        "id": "NoK4IIbFy7Cv",
        "outputId": "47bc8a16-2efa-458c-ba9c-2f092a14668d"
      },
      "execution_count": 2,
      "outputs": [
        {
          "output_type": "stream",
          "name": "stdout",
          "text": [
            "The length of the string is: 11\n"
          ]
        }
      ]
    },
    {
      "cell_type": "code",
      "source": [
        "#3. Write a code to slice the first 3 characters from the string \"Python Programming\"\n",
        "string = \"Python Programming\"\n",
        "sliced_string = string[:3]\n",
        "sliced_string"
      ],
      "metadata": {
        "colab": {
          "base_uri": "https://localhost:8080/",
          "height": 35
        },
        "id": "yi2gHSorzR3a",
        "outputId": "6a3be535-62b1-4460-ca40-9dcccecd0fab"
      },
      "execution_count": 5,
      "outputs": [
        {
          "output_type": "execute_result",
          "data": {
            "text/plain": [
              "'Pyt'"
            ],
            "application/vnd.google.colaboratory.intrinsic+json": {
              "type": "string"
            }
          },
          "metadata": {},
          "execution_count": 5
        }
      ]
    },
    {
      "cell_type": "code",
      "source": [
        "#4. Write a code to convert the string \"hello\" to uppercase\n",
        "string = \"hello\"\n",
        "uppercase_string = string.upper()\n",
        "uppercase_string\n"
      ],
      "metadata": {
        "colab": {
          "base_uri": "https://localhost:8080/",
          "height": 35
        },
        "id": "R2mY3A350TST",
        "outputId": "783aa971-aca7-454f-a664-74ae87853413"
      },
      "execution_count": 9,
      "outputs": [
        {
          "output_type": "execute_result",
          "data": {
            "text/plain": [
              "'HELLO'"
            ],
            "application/vnd.google.colaboratory.intrinsic+json": {
              "type": "string"
            }
          },
          "metadata": {},
          "execution_count": 9
        }
      ]
    },
    {
      "cell_type": "code",
      "source": [
        "#5. Write a code to replace the word \"apple\" with \"orange\" in the string \"I like apple\"\n",
        "string = \"I like apple\"\n",
        "new_string = string.replace(\"apple\", \"orange\")\n",
        "new_string\n"
      ],
      "metadata": {
        "colab": {
          "base_uri": "https://localhost:8080/",
          "height": 35
        },
        "id": "0QYqk5ob0TxD",
        "outputId": "ca4a09ea-f736-425c-e6b9-7e999027dac6"
      },
      "execution_count": 8,
      "outputs": [
        {
          "output_type": "execute_result",
          "data": {
            "text/plain": [
              "'I like orange'"
            ],
            "application/vnd.google.colaboratory.intrinsic+json": {
              "type": "string"
            }
          },
          "metadata": {},
          "execution_count": 8
        }
      ]
    },
    {
      "cell_type": "code",
      "source": [
        "#6. Write a code to create a list with numbers 1 to 5 and print it\n",
        "my_list = list(range(1, 6))\n",
        "my_list"
      ],
      "metadata": {
        "colab": {
          "base_uri": "https://localhost:8080/"
        },
        "id": "mke6nY4Y0T6z",
        "outputId": "58650760-89a6-4fa9-dfa3-bd7f04873655"
      },
      "execution_count": 10,
      "outputs": [
        {
          "output_type": "execute_result",
          "data": {
            "text/plain": [
              "[1, 2, 3, 4, 5]"
            ]
          },
          "metadata": {},
          "execution_count": 10
        }
      ]
    },
    {
      "cell_type": "code",
      "source": [
        "#7. Write a code to append the number 10 to the list [1, 2, 3, 4]\n",
        "my_list = [1, 2, 3, 4]\n",
        "my_list.append(10)\n",
        "my_list"
      ],
      "metadata": {
        "colab": {
          "base_uri": "https://localhost:8080/"
        },
        "id": "ggQQ1VS30T_M",
        "outputId": "8c755afe-ce7c-4ab3-86cc-e0785bbb63e9"
      },
      "execution_count": 11,
      "outputs": [
        {
          "output_type": "execute_result",
          "data": {
            "text/plain": [
              "[1, 2, 3, 4, 10]"
            ]
          },
          "metadata": {},
          "execution_count": 11
        }
      ]
    },
    {
      "cell_type": "code",
      "source": [
        "#8. Write a code to remove the number 3 from the list [1, 2, 3, 4, 5]\n",
        "my_list = [1, 2, 3, 4, 5]\n",
        "my_list.remove(3)\n",
        "my_list"
      ],
      "metadata": {
        "colab": {
          "base_uri": "https://localhost:8080/"
        },
        "id": "2Xsb5VUT0UDD",
        "outputId": "9fe6bd79-d8f6-47b0-f236-c5f0c782fb05"
      },
      "execution_count": 12,
      "outputs": [
        {
          "output_type": "execute_result",
          "data": {
            "text/plain": [
              "[1, 2, 4, 5]"
            ]
          },
          "metadata": {},
          "execution_count": 12
        }
      ]
    },
    {
      "cell_type": "code",
      "source": [
        "#9. Write a code to access the second element in the list ['a', 'b', 'c', 'd']\n",
        "my_list = ['a', 'b', 'c', 'd']\n",
        "second_element = my_list[1]\n",
        "second_element"
      ],
      "metadata": {
        "colab": {
          "base_uri": "https://localhost:8080/",
          "height": 35
        },
        "id": "KYV5Nn0zMMRW",
        "outputId": "616ca3f5-f44e-4119-e466-81752852309b"
      },
      "execution_count": 13,
      "outputs": [
        {
          "output_type": "execute_result",
          "data": {
            "text/plain": [
              "'b'"
            ],
            "application/vnd.google.colaboratory.intrinsic+json": {
              "type": "string"
            }
          },
          "metadata": {},
          "execution_count": 13
        }
      ]
    },
    {
      "cell_type": "code",
      "source": [
        "#10. Write a code to reverse the list [10, 20, 30, 40, 50].\n",
        "my_list = [10, 20, 30, 40, 50]\n",
        "reversed_list = my_list[::-1]\n",
        "reversed_list"
      ],
      "metadata": {
        "colab": {
          "base_uri": "https://localhost:8080/"
        },
        "id": "Hv0yvP8kMMaB",
        "outputId": "63021725-8914-4661-ec7d-14259e446f60"
      },
      "execution_count": 14,
      "outputs": [
        {
          "output_type": "execute_result",
          "data": {
            "text/plain": [
              "[50, 40, 30, 20, 10]"
            ]
          },
          "metadata": {},
          "execution_count": 14
        }
      ]
    },
    {
      "cell_type": "code",
      "source": [
        "#11. Write a code to create a tuple with the elements 100, 200, 300 and print it.\n",
        "my_tuple = (100, 200, 300)\n",
        "my_tuple"
      ],
      "metadata": {
        "colab": {
          "base_uri": "https://localhost:8080/"
        },
        "id": "bbslFX38MMgI",
        "outputId": "b681c124-07e1-402c-e6b6-53667180804a"
      },
      "execution_count": 15,
      "outputs": [
        {
          "output_type": "execute_result",
          "data": {
            "text/plain": [
              "(100, 200, 300)"
            ]
          },
          "metadata": {},
          "execution_count": 15
        }
      ]
    },
    {
      "cell_type": "code",
      "source": [
        "#12. Write a code to access the second-to-last element of the tuple ('red', 'green', 'blue', 'yellow').\n",
        "my_tuple = ('red', 'green', 'blue', 'yellow')\n",
        "second_to_last_element = my_tuple[-2]\n",
        "second_to_last_element"
      ],
      "metadata": {
        "colab": {
          "base_uri": "https://localhost:8080/",
          "height": 35
        },
        "id": "vEmi5B_mMMi_",
        "outputId": "3dd9a221-af74-45ef-f69c-c31075147569"
      },
      "execution_count": 16,
      "outputs": [
        {
          "output_type": "execute_result",
          "data": {
            "text/plain": [
              "'blue'"
            ],
            "application/vnd.google.colaboratory.intrinsic+json": {
              "type": "string"
            }
          },
          "metadata": {},
          "execution_count": 16
        }
      ]
    },
    {
      "cell_type": "code",
      "source": [
        "#13. Write a code to find the minimum number in the tuple (10, 20, 5, 15)\n",
        "my_tuple = (10, 20, 5, 15)\n",
        "min_number = min(my_tuple)\n",
        "print(f\"The minimum number in the tuple is: {min_number}\")"
      ],
      "metadata": {
        "colab": {
          "base_uri": "https://localhost:8080/"
        },
        "id": "ouSKS1eHMMli",
        "outputId": "af0cb58a-207a-4a33-d83d-18e8bc5c49c9"
      },
      "execution_count": 17,
      "outputs": [
        {
          "output_type": "stream",
          "name": "stdout",
          "text": [
            "The minimum number in the tuple is: 5\n"
          ]
        }
      ]
    },
    {
      "cell_type": "code",
      "source": [
        "#14. Write a code to find the index of the element \"cat\" in the tuple ('dog', 'cat', 'rabbit').\n",
        "my_tuple = ('dog', 'cat', 'rabbit')\n",
        "index_of_cat = my_tuple.index('cat')\n",
        "print(f\"The index of 'cat' in the tuple is: {index_of_cat}\")"
      ],
      "metadata": {
        "colab": {
          "base_uri": "https://localhost:8080/"
        },
        "id": "ZtXvJS3cOwzC",
        "outputId": "efe6a56a-a309-4d5c-f53c-eab29fd2dcd1"
      },
      "execution_count": 18,
      "outputs": [
        {
          "output_type": "stream",
          "name": "stdout",
          "text": [
            "The index of 'cat' in the tuple is: 1\n"
          ]
        }
      ]
    },
    {
      "cell_type": "code",
      "source": [
        "#15. Write a code to create a tuple containing three different fruits and check if \"kiwi\" is in it.\n",
        "fruits = (\"apple\", \"banana\", \"orange\")\n",
        "if \"kiwi\" in fruits:\n",
        "  print(\"Kiwi is in the tuple.\")\n",
        "else:\n",
        "  print(\"Kiwi is not in the tuple.\")"
      ],
      "metadata": {
        "colab": {
          "base_uri": "https://localhost:8080/"
        },
        "id": "MRMgcWm4Ow2w",
        "outputId": "175c79d7-476f-4fbf-9562-47cee8880cfd"
      },
      "execution_count": 19,
      "outputs": [
        {
          "output_type": "stream",
          "name": "stdout",
          "text": [
            "Kiwi is not in the tuple.\n"
          ]
        }
      ]
    },
    {
      "cell_type": "code",
      "source": [
        "#16. Write a code to create a set with the elements 'a', 'b', 'c' and print it.\n",
        "my_set = {'a', 'b', 'c'}\n",
        "my_set"
      ],
      "metadata": {
        "colab": {
          "base_uri": "https://localhost:8080/"
        },
        "id": "j_POjRJ0Ow5d",
        "outputId": "532b2420-7086-4b56-fdf9-3039a778c302"
      },
      "execution_count": 20,
      "outputs": [
        {
          "output_type": "execute_result",
          "data": {
            "text/plain": [
              "{'a', 'b', 'c'}"
            ]
          },
          "metadata": {},
          "execution_count": 20
        }
      ]
    },
    {
      "cell_type": "code",
      "source": [
        "#17. Write a code to clear all elements from the set {1, 2, 3, 4, 5}.\n",
        "my_set = {1, 2, 3, 4, 5}\n",
        "my_set.clear()\n",
        "print(my_set)"
      ],
      "metadata": {
        "colab": {
          "base_uri": "https://localhost:8080/"
        },
        "id": "CCOETr8gOw8c",
        "outputId": "921387ed-5e45-4be8-d597-3c49aca3d25b"
      },
      "execution_count": 21,
      "outputs": [
        {
          "output_type": "stream",
          "name": "stdout",
          "text": [
            "set()\n"
          ]
        }
      ]
    },
    {
      "cell_type": "code",
      "source": [
        "#18. Write a code to remove the element 4 from the set {1, 2, 3, 4}.\n",
        "my_set = {1, 2, 3, 4}\n",
        "my_set.remove(4)\n",
        "my_set"
      ],
      "metadata": {
        "colab": {
          "base_uri": "https://localhost:8080/"
        },
        "id": "mjNqZpuVOw_E",
        "outputId": "5655f02f-2f02-40e7-a0ae-82ebdba9a5f1"
      },
      "execution_count": 22,
      "outputs": [
        {
          "output_type": "execute_result",
          "data": {
            "text/plain": [
              "{1, 2, 3}"
            ]
          },
          "metadata": {},
          "execution_count": 22
        }
      ]
    },
    {
      "cell_type": "code",
      "source": [
        "#19. Write a code to find the union of two sets {1, 2, 3} and {3, 4, 5}.\n",
        "set1 = {1, 2, 3}\n",
        "set2 = {3, 4, 5}\n",
        "union_set = set1.union(set2)\n",
        "union_set"
      ],
      "metadata": {
        "colab": {
          "base_uri": "https://localhost:8080/"
        },
        "id": "BYmWmkD9Qw3X",
        "outputId": "7937124a-7afd-4e00-a615-58f0965a3412"
      },
      "execution_count": 23,
      "outputs": [
        {
          "output_type": "execute_result",
          "data": {
            "text/plain": [
              "{1, 2, 3, 4, 5}"
            ]
          },
          "metadata": {},
          "execution_count": 23
        }
      ]
    },
    {
      "cell_type": "code",
      "source": [
        "#20. Write a code to find the intersection of two sets {1, 2, 3} and {2, 3, 4}\n",
        "set1 = {1, 2, 3}\n",
        "set2 = {2, 3, 4}\n",
        "intersection_set = set1.intersection(set2)\n",
        "intersection_set"
      ],
      "metadata": {
        "colab": {
          "base_uri": "https://localhost:8080/"
        },
        "id": "NaWljPv5QxAZ",
        "outputId": "ddf49a19-9761-4b14-bb2b-4bb7343a40ac"
      },
      "execution_count": 24,
      "outputs": [
        {
          "output_type": "execute_result",
          "data": {
            "text/plain": [
              "{2, 3}"
            ]
          },
          "metadata": {},
          "execution_count": 24
        }
      ]
    },
    {
      "cell_type": "code",
      "source": [
        "#21. Write a code to create a dictionary with the keys \"name\", \"age\", and \"city\", and print it.\n",
        "my_dict = {\n",
        "    \"name\": \"John Doe\",\n",
        "    \"age\": 30,\n",
        "    \"city\": \"New York\"\n",
        "}\n",
        "my_dict"
      ],
      "metadata": {
        "colab": {
          "base_uri": "https://localhost:8080/"
        },
        "id": "78k8w3RCQxI6",
        "outputId": "5aa5cfac-32dd-481a-dfd8-36037d31be46"
      },
      "execution_count": 25,
      "outputs": [
        {
          "output_type": "execute_result",
          "data": {
            "text/plain": [
              "{'name': 'John Doe', 'age': 30, 'city': 'New York'}"
            ]
          },
          "metadata": {},
          "execution_count": 25
        }
      ]
    },
    {
      "cell_type": "code",
      "source": [
        "#22. Write a code to add a new key-value pair \"country\": \"USA\" to the dictionary {'name': 'John', 'age': 25}.\n",
        "my_dict = {'name': 'John', 'age': 25}\n",
        "my_dict['country'] = 'USA'\n",
        "my_dict"
      ],
      "metadata": {
        "colab": {
          "base_uri": "https://localhost:8080/"
        },
        "id": "VrsJwZu5QxOr",
        "outputId": "6d43539c-65ec-4053-f3d2-75744a83cc74"
      },
      "execution_count": 26,
      "outputs": [
        {
          "output_type": "execute_result",
          "data": {
            "text/plain": [
              "{'name': 'John', 'age': 25, 'country': 'USA'}"
            ]
          },
          "metadata": {},
          "execution_count": 26
        }
      ]
    },
    {
      "cell_type": "code",
      "source": [
        "#23. Write a code to access the value associated with the key \"name\" in the dictionary {'name': 'Alice', 'age': 30}.\n",
        "my_dict = {'name': 'Alice', 'age': 30}\n",
        "name_value = my_dict['name']\n",
        "name_value"
      ],
      "metadata": {
        "colab": {
          "base_uri": "https://localhost:8080/",
          "height": 35
        },
        "id": "5fxWEuRFMMn5",
        "outputId": "e1530b83-7337-4b8f-bfe8-0fcfafaf523a"
      },
      "execution_count": 27,
      "outputs": [
        {
          "output_type": "execute_result",
          "data": {
            "text/plain": [
              "'Alice'"
            ],
            "application/vnd.google.colaboratory.intrinsic+json": {
              "type": "string"
            }
          },
          "metadata": {},
          "execution_count": 27
        }
      ]
    },
    {
      "cell_type": "code",
      "source": [
        " #24. Write a code to remove the key \"age\" from the dictionary {'name': 'Bob', 'age': 22, 'city': 'New York'}\n",
        "my_dict = {'name': 'Bob', 'age': 22, 'city': 'New York'}\n",
        "del my_dict['age']\n",
        "my_dict"
      ],
      "metadata": {
        "colab": {
          "base_uri": "https://localhost:8080/"
        },
        "id": "FRUZcPlCTELI",
        "outputId": "af19adb1-9b98-49d1-e581-be80984a7a15"
      },
      "execution_count": 29,
      "outputs": [
        {
          "output_type": "execute_result",
          "data": {
            "text/plain": [
              "{'name': 'Bob', 'city': 'New York'}"
            ]
          },
          "metadata": {},
          "execution_count": 29
        }
      ]
    },
    {
      "cell_type": "code",
      "source": [
        "#25. Write a code to check if the key \"city\" exists in the dictionary {'name': 'Alice', 'city': 'Paris'}.\n",
        "my_dict = {'name': 'Alice', 'city': 'Paris'}\n",
        "if 'city' in my_dict:\n",
        "  print(\"The key 'city' exists in the dictionary.\")\n",
        "else:\n",
        "  print(\"The key 'city' does not exist in the dictionary.\")"
      ],
      "metadata": {
        "colab": {
          "base_uri": "https://localhost:8080/"
        },
        "id": "AkdfKXY0TESd",
        "outputId": "ac2ce692-e5df-48b8-eb22-6b0927108eed"
      },
      "execution_count": 31,
      "outputs": [
        {
          "output_type": "stream",
          "name": "stdout",
          "text": [
            "The key 'city' exists in the dictionary.\n"
          ]
        }
      ]
    },
    {
      "cell_type": "code",
      "source": [
        "#26.Write a code to create a list, a tuple, and a dictionary, and print them all.\n",
        "# Create a list\n",
        "my_list = [1, 2, 3, 4, 5]\n",
        "print(\"List:\", my_list)\n",
        "\n",
        "# Create a tuple\n",
        "my_tuple = (6, 7, 8, 9, 10)\n",
        "print(\"Tuple:\", my_tuple)\n",
        "\n",
        "# Create a dictionary\n",
        "my_dict = {\"name\": \"John\", \"age\": 30, \"city\": \"New York\"}\n",
        "print(\"Dictionary:\", my_dict)"
      ],
      "metadata": {
        "colab": {
          "base_uri": "https://localhost:8080/"
        },
        "id": "MVo-JdrqTEVn",
        "outputId": "8b03f39c-bc5c-4408-f6df-453a8e2435cd"
      },
      "execution_count": 32,
      "outputs": [
        {
          "output_type": "stream",
          "name": "stdout",
          "text": [
            "List: [1, 2, 3, 4, 5]\n",
            "Tuple: (6, 7, 8, 9, 10)\n",
            "Dictionary: {'name': 'John', 'age': 30, 'city': 'New York'}\n"
          ]
        }
      ]
    },
    {
      "cell_type": "code",
      "source": [
        "#27. Write a code to create a list of 5 random numbers between 1 and 100, sort it in ascending order, and print the result.(replaced)\n",
        "import random\n",
        "# Create a list of 5 random numbers between 1 and 100\n",
        "random_numbers = [random.randint(1, 100) for _ in range(5)]\n",
        "\n",
        "# Sort the list in ascending order\n",
        "random_numbers.sort()\n",
        "\n",
        "# Print the sorted list\n",
        "print(\"Sorted list of random numbers:\", random_numbers)"
      ],
      "metadata": {
        "id": "pp00wVRcTEZ9"
      },
      "execution_count": null,
      "outputs": []
    },
    {
      "cell_type": "code",
      "source": [
        "#28.Write a code to create a list with strings and print the element at the third index.\n",
        "my_list = [\"monkfruit\", \"blueberry\", \"cherry\", \"strawberry\", \"elderberry\"]\n",
        "if len(my_list) > 3:\n",
        "  print(my_list[3])\n",
        "else:\n",
        "  print(\"The list does not have enough elements.\")"
      ],
      "metadata": {
        "colab": {
          "base_uri": "https://localhost:8080/"
        },
        "id": "CQ7gOuC8TEcq",
        "outputId": "aa44764b-439d-497c-b497-856a3b0ccf8b"
      },
      "execution_count": 35,
      "outputs": [
        {
          "output_type": "stream",
          "name": "stdout",
          "text": [
            "strawberry\n"
          ]
        }
      ]
    },
    {
      "cell_type": "code",
      "source": [
        "#29.Write a code to combine two dictionaries into one and print the result.\n",
        "dict1 = {'a': 1, 'b': 2}\n",
        "dict2 = {'c': 3, 'd': 4}\n",
        "combined_dict = {**dict1, **dict2}\n",
        "combined_dict"
      ],
      "metadata": {
        "colab": {
          "base_uri": "https://localhost:8080/"
        },
        "id": "A2M-4CVCTEfQ",
        "outputId": "0e00f925-0eb9-4d56-b24f-53cb95dc7252"
      },
      "execution_count": 36,
      "outputs": [
        {
          "output_type": "execute_result",
          "data": {
            "text/plain": [
              "{'a': 1, 'b': 2, 'c': 3, 'd': 4}"
            ]
          },
          "metadata": {},
          "execution_count": 36
        }
      ]
    },
    {
      "cell_type": "code",
      "source": [
        "#30.Write a code to convert a list of strings into a set\n",
        "my_list = [\"monkfruit\", \"blueberry\", \"cherry\", \"strawberry\", \"elderberry\"]\n",
        "my_set = set(my_list)\n",
        "my_set"
      ],
      "metadata": {
        "colab": {
          "base_uri": "https://localhost:8080/"
        },
        "id": "NbMxaeiaTvop",
        "outputId": "e70b7d51-994d-4683-f84c-aea988f25511"
      },
      "execution_count": 37,
      "outputs": [
        {
          "output_type": "execute_result",
          "data": {
            "text/plain": [
              "{'blueberry', 'cherry', 'elderberry', 'monkfruit', 'strawberry'}"
            ]
          },
          "metadata": {},
          "execution_count": 37
        }
      ]
    }
  ]
}